{
  "nbformat": 4,
  "nbformat_minor": 0,
  "metadata": {
    "colab": {
      "provenance": []
    },
    "kernelspec": {
      "name": "python3",
      "display_name": "Python 3"
    },
    "language_info": {
      "name": "python"
    }
  },
  "cells": [
    {
      "cell_type": "code",
      "execution_count": 5,
      "metadata": {
        "colab": {
          "base_uri": "https://localhost:8080/"
        },
        "id": "9eXUDEdLKF2C",
        "outputId": "2e275daa-5c18-427a-ba94-633b38e96599"
      },
      "outputs": [
        {
          "output_type": "stream",
          "name": "stdout",
          "text": [
            "First 5 rows of the dataset:\n",
            "   CustomerID  Gender  Age  Annual Income (k$)  Spending Score (1-100)\n",
            "0           1    Male   19                  15                      39\n",
            "1           2    Male   21                  15                      81\n",
            "2           3  Female   20                  16                       6\n",
            "3           4  Female   23                  16                      77\n",
            "4           5  Female   31                  17                      40\n",
            "\n",
            "Concise summary of the dataset:\n",
            "<class 'pandas.core.frame.DataFrame'>\n",
            "RangeIndex: 99 entries, 0 to 98\n",
            "Data columns (total 5 columns):\n",
            " #   Column                  Non-Null Count  Dtype \n",
            "---  ------                  --------------  ----- \n",
            " 0   CustomerID              99 non-null     int64 \n",
            " 1   Gender                  99 non-null     object\n",
            " 2   Age                     99 non-null     int64 \n",
            " 3   Annual Income (k$)      99 non-null     int64 \n",
            " 4   Spending Score (1-100)  99 non-null     int64 \n",
            "dtypes: int64(4), object(1)\n",
            "memory usage: 4.0+ KB\n",
            "None\n"
          ]
        }
      ],
      "source": [
        "import pandas as pd\n",
        "import matplotlib.pyplot as plt\n",
        "from sklearn.preprocessing import StandardScaler\n",
        "from sklearn.cluster import KMeans\n",
        "from sklearn.metrics import silhouette_score\n",
        "import numpy as np\n",
        "\n",
        "# Load the dataset\n",
        "df = pd.read_csv('Mall_Customers.csv')\n",
        "\n",
        "# Display the first few rows\n",
        "print(\"First 5 rows of the dataset:\")\n",
        "print(df.head())\n",
        "\n",
        "# Display concise summary of the DataFrame\n",
        "print(\"\\nConcise summary of the dataset:\")\n",
        "print(df.info())"
      ]
    },
    {
      "cell_type": "code",
      "source": [
        "import pandas as pd\n",
        "\n",
        "# Load the dataset\n",
        "df_mall = pd.read_csv('Mall_Customers.csv')\n",
        "\n",
        "# Display the first few rows\n",
        "print(\"First 5 rows of the dataset:\")\n",
        "print(df_mall.head())\n",
        "\n",
        "# Display concise summary of the DataFrame\n",
        "print(\"\\nConcise summary of the dataset:\")\n",
        "print(df_mall.info())"
      ],
      "metadata": {
        "colab": {
          "base_uri": "https://localhost:8080/"
        },
        "id": "N4m2CiWPO1sk",
        "outputId": "a7c7a4bb-7422-48e8-c7dd-3a742d7a7df8"
      },
      "execution_count": 6,
      "outputs": [
        {
          "output_type": "stream",
          "name": "stdout",
          "text": [
            "First 5 rows of the dataset:\n",
            "   CustomerID  Gender  Age  Annual Income (k$)  Spending Score (1-100)\n",
            "0           1    Male   19                  15                      39\n",
            "1           2    Male   21                  15                      81\n",
            "2           3  Female   20                  16                       6\n",
            "3           4  Female   23                  16                      77\n",
            "4           5  Female   31                  17                      40\n",
            "\n",
            "Concise summary of the dataset:\n",
            "<class 'pandas.core.frame.DataFrame'>\n",
            "RangeIndex: 99 entries, 0 to 98\n",
            "Data columns (total 5 columns):\n",
            " #   Column                  Non-Null Count  Dtype \n",
            "---  ------                  --------------  ----- \n",
            " 0   CustomerID              99 non-null     int64 \n",
            " 1   Gender                  99 non-null     object\n",
            " 2   Age                     99 non-null     int64 \n",
            " 3   Annual Income (k$)      99 non-null     int64 \n",
            " 4   Spending Score (1-100)  99 non-null     int64 \n",
            "dtypes: int64(4), object(1)\n",
            "memory usage: 4.0+ KB\n",
            "None\n"
          ]
        }
      ]
    },
    {
      "cell_type": "code",
      "source": [
        "from sklearn.preprocessing import StandardScaler\n",
        "from sklearn.cluster import KMeans\n",
        "import matplotlib.pyplot as plt\n",
        "\n",
        "# Select the features for clustering\n",
        "X = df_mall[['Annual Income (k$)', 'Spending Score (1-100)']]\n",
        "\n",
        "# Scale the features\n",
        "scaler = StandardScaler()\n",
        "X_scaled = scaler.fit_transform(X)\n",
        "\n",
        "# Use the Elbow Method to find the optimal K\n",
        "wcss = []\n",
        "for i in range(1, 11):\n",
        "    kmeans = KMeans(n_clusters=i, init='k-means++', random_state=42, n_init=10) # n_init for multiple initializations\n",
        "    kmeans.fit(X_scaled)\n",
        "    wcss.append(kmeans.inertia_)\n",
        "\n",
        "# Plot the Elbow Method graph\n",
        "plt.figure(figsize=(10, 6))\n",
        "plt.plot(range(1, 11), wcss, marker='o', linestyle='--')\n",
        "plt.title('Elbow Method for Optimal K')\n",
        "plt.xlabel('Number of Clusters (K)')\n",
        "plt.ylabel('WCSS')\n",
        "plt.grid(True)\n",
        "plt.savefig('elbow_method.png')\n",
        "plt.close()\n",
        "\n",
        "print(\"Elbow method plot saved as 'elbow_method.png'. Please examine the plot to determine the optimal K.\")"
      ],
      "metadata": {
        "colab": {
          "base_uri": "https://localhost:8080/"
        },
        "id": "4LTyRIqaO_Wj",
        "outputId": "869b4631-c767-4668-e594-5bad295b28c6"
      },
      "execution_count": 7,
      "outputs": [
        {
          "output_type": "stream",
          "name": "stdout",
          "text": [
            "Elbow method plot saved as 'elbow_method.png'. Please examine the plot to determine the optimal K.\n"
          ]
        }
      ]
    },
    {
      "cell_type": "code",
      "source": [
        "from sklearn.cluster import KMeans\n",
        "from sklearn.metrics import silhouette_score\n",
        "import matplotlib.pyplot as plt\n",
        "import pandas as pd # Re-import to ensure df_mall is accessible if running from scratch\n",
        "\n",
        "# Select the features for clustering (re-selecting to ensure consistency)\n",
        "X = df_mall[['Annual Income (k$)', 'Spending Score (1-100)']]\n",
        "\n",
        "# Scale the features (re-scaling to ensure consistency)\n",
        "scaler = StandardScaler()\n",
        "X_scaled = scaler.fit_transform(X)\n",
        "\n",
        "# Optimal K determined from the Elbow Method plot is 5\n",
        "optimal_k = 5\n",
        "\n",
        "# Fit K-Means with the optimal K\n",
        "kmeans = KMeans(n_clusters=optimal_k, init='k-means++', random_state=42, n_init=10)\n",
        "cluster_labels = kmeans.fit_predict(X_scaled)\n",
        "\n",
        "# Add the cluster labels to the original DataFrame for visualization and further analysis\n",
        "df_mall['Cluster'] = cluster_labels\n",
        "\n",
        "# 4. Visualize clusters with color-coding.\n",
        "plt.figure(figsize=(12, 8))\n",
        "scatter = plt.scatter(df_mall['Annual Income (k$)'], df_mall['Spending Score (1-100)'],\n",
        "                      c=df_mall['Cluster'], cmap='viridis', s=100, alpha=0.8, edgecolors='w')\n",
        "plt.scatter(scaler.inverse_transform(kmeans.cluster_centers_)[:, 0],\n",
        "            scaler.inverse_transform(kmeans.cluster_centers_)[:, 1],\n",
        "            s=300, c='red', marker='X', label='Centroids', edgecolors='k')\n",
        "plt.title(f'Customer Segments (K={optimal_k})')\n",
        "plt.xlabel('Annual Income (k$)')\n",
        "plt.ylabel('Spending Score (1-100)')\n",
        "plt.legend()\n",
        "plt.grid(True)\n",
        "plt.colorbar(scatter, ticks=range(optimal_k), label='Cluster Label')\n",
        "plt.savefig('kmeans_clusters.png')\n",
        "plt.close()\n",
        "\n",
        "print(f\"Clusters visualization saved as 'kmeans_clusters.png' for K={optimal_k}.\")\n",
        "\n",
        "# 5. Evaluate clustering using Silhouette Score.\n",
        "silhouette_avg = silhouette_score(X_scaled, cluster_labels)\n",
        "print(f\"\\nSilhouette Score for K={optimal_k}: {silhouette_avg:.4f}\")"
      ],
      "metadata": {
        "colab": {
          "base_uri": "https://localhost:8080/"
        },
        "id": "Z5hXqZ69PCJf",
        "outputId": "9d8b4fcc-b755-4326-e2f3-6d81aa28f72c"
      },
      "execution_count": 8,
      "outputs": [
        {
          "output_type": "stream",
          "name": "stdout",
          "text": [
            "Clusters visualization saved as 'kmeans_clusters.png' for K=5.\n",
            "\n",
            "Silhouette Score for K=5: 0.4642\n"
          ]
        }
      ]
    }
  ]
}